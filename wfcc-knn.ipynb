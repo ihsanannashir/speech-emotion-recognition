{
 "cells": [
  {
   "cell_type": "code",
   "execution_count": null,
   "metadata": {},
   "outputs": [],
   "source": [
    "import os\n",
    "import time\n",
    "import numpy as np\n",
    "import pandas as pd\n",
    "\n",
    "import matplotlib.pyplot as plt\n",
    "import speechpy\n",
    "import pywt\n",
    "import scipy\n",
    "import scipy.fftpack as fft\n",
    "from scipy.io import wavfile\n",
    "from scipy.signal import get_window\n",
    "import codecs, json\n",
    "\n",
    "from sklearn.metrics import accuracy_score\n",
    "from sklearn.model_selection import train_test_split\n",
    "from sklearn.neighbors import KNeighborsClassifier\n",
    "from sklearn.model_selection import GridSearchCV"
   ]
  },
  {
   "cell_type": "markdown",
   "metadata": {},
   "source": [
    "Ekstraksi"
   ]
  },
  {
   "cell_type": "code",
   "execution_count": null,
   "metadata": {},
   "outputs": [],
   "source": [
    "def normalize_audio(audio):\n",
    "    audio = audio/np.max(np.abs(audio))\n",
    "    return audio\n",
    "\n",
    "def frame_audio(audio, FFT_size = 2048, hop_size = 10, sample_rate=16000):\n",
    "    audio = np.pad(audio, int(FFT_size/2), mode='reflect')\n",
    "    frame_len = np.round(sample_rate * hop_size / 1000).astype(int)\n",
    "    frame_num = int((len(audio) - FFT_size) / frame_len)+ 1\n",
    "    frames = np.zeros((frame_num, FFT_size))\n",
    "    for n in range(frame_num):\n",
    "        frames[n] = audio[n*frame_len : n*frame_len+FFT_size]\n",
    "        return frames\n",
    "\n",
    "def freq_to_mel(freq):\n",
    "    return 2595.0 * np.log10(1.0 + freq / 700.0)\n",
    "\n",
    "def met_to_freq(mels):\n",
    "    return 700.0 * (10.0**(mels / 2595.0) - 1.0)\n",
    "\n",
    "def get_filter_points(fmin, fmax, mel_filter_num, FFT_size, sample_rate=16000):\n",
    "    fmin_mel = freq_to_mel(fmin)\n",
    "    fmax_mel = freq_to_mel(fmax)\n",
    "    mels = np.linspace(fmin_mel, fmax_mel, num=mel_filter_num+2)\n",
    "    freqs = met_to_freq(mels)\n",
    "    return np.floor((FFT_size) / sample_rate * freqs).astype(int), freqs\n",
    "\n",
    "def get_filters(filter_points, FFT_size):\n",
    "    filters = np.zeros((len(filter_points)-2, int((FFT_size/2))))\n",
    "    for n in range(len(filter_points)-2):\n",
    "        filters[n, filter_points[n] : filter_points[n + 1]] = np.linspace(0, 1, filter_points[n + 1] - filter_points[n])\n",
    "    filters[n, filter_points[n + 1] : filter_points[n + 2]] = np.linspace(1, 0, filter_points[n + 2] - filter_points[n + 1])\n",
    "    return filters\n",
    "\n",
    "def replaceZeroes(data):\n",
    "    min_nonzero = np.min(data[np.nonzero(data)])\n",
    "    data[data == 0] = min_nonzero\n",
    "    return data\n",
    "\n",
    "def dct(dct_filter_num, filter_len):\n",
    "    basis = np.empty((dct_filter_num,filter_len))\n",
    "    basis[0, :] = 1.0 / np.sqrt(filter_len)\n",
    "    samples = np.arange(1, 2 * filter_len, 2) * np.pi / (2.0 * filter_len)\n",
    "    for i in range(1, dct_filter_num): \n",
    "        basis[i, :] = np.cos(i * samples) * np.sqrt(2.0 / filter_len)\n",
    "    return basis"
   ]
  },
  {
   "cell_type": "code",
   "execution_count": null,
   "metadata": {},
   "outputs": [],
   "source": [
    "fiturmean = np.empty((40, 1))\n",
    "x = 0\n",
    "\n",
    "sample_rate, audio = wavfile.read('./dummy-sound/1010_IOM_ANG_XX.wav')\n",
    "waktuSekarang = time.time()\n",
    "print(\"\\t - Membaca audio...\\t\\t\\t\\t(done)\")"
   ]
  },
  {
   "cell_type": "code",
   "execution_count": null,
   "metadata": {},
   "outputs": [],
   "source": [
    "if (len(audio.shape) > 1):\n",
    "    audio1 = normalize_audio(audio[:,0])\n",
    "else:\n",
    "    audio1 = normalize_audio(audio)\n",
    "\n",
    "audiohasil2 = audio1\n",
    "hop_size = 12\n",
    "FFT_size = 2048\n",
    "audio_framed = frame_audio(audiohasil2, FFT_size=FFT_size, hop_size=hop_size, sample_rate=sample_rate)\n",
    "print(\"\\t - Audio Framing...\\t\\t\\t\\t(done)\")"
   ]
  },
  {
   "cell_type": "code",
   "execution_count": null,
   "metadata": {},
   "outputs": [],
   "source": [
    "window = get_window(\"hamming\", FFT_size, fftbins=True)\n",
    "audio_win = audio_framed * window\n",
    "print(\"\\t - Windowing...\\t\\t\\t\\t\\t(done)\")"
   ]
  },
  {
   "cell_type": "code",
   "execution_count": null,
   "metadata": {},
   "outputs": [],
   "source": [
    "audio_winT = np.transpose(audio_win)\n",
    "coeffs = pywt.wavedec(audio_winT, 'bior6.8', mode='sym', level=2);  # DWT\n",
    "cA, cD1, cD2 = coeffs\n",
    "audio_wavelet = pywt.waverec(coeffs, 'bior6.8', mode='sym')\n",
    "audio_wavelet = np.transpose(audio_wavelet)\n",
    "print(\"\\t - Wavelet Transform...\\t\\t\\t\\t(done)\")"
   ]
  },
  {
   "cell_type": "code",
   "execution_count": null,
   "metadata": {},
   "outputs": [],
   "source": [
    "audio_power = np.square(np.abs(audio_wavelet))\n",
    "print(\"\\t - Menghitung Audio Power...\\t\\t\\t(done)\")"
   ]
  },
  {
   "cell_type": "code",
   "execution_count": null,
   "metadata": {},
   "outputs": [],
   "source": [
    "freq_min = 0\n",
    "freq_high = sample_rate / 2\n",
    "mel_filter_num = 10"
   ]
  },
  {
   "cell_type": "code",
   "execution_count": null,
   "metadata": {},
   "outputs": [],
   "source": [
    "filter_points, mel_freqs = get_filter_points(freq_min, freq_high, mel_filter_num, 4096, sample_rate)\n",
    "filters = get_filters(filter_points, 4096)\n",
    "enorm = 2.0 / (mel_freqs[2:mel_filter_num+2] - mel_freqs[:mel_filter_num])\n",
    "filters *= enorm[:, np.newaxis]\n",
    "print(\"\\t - Menghitung Filter Point...\\t\\t\\t(done)\")\n",
    "            \n",
    "audio_filtered = np.dot(filters, np.transpose(audio_power))\n",
    "prob = replaceZeroes(audio_filtered)\n",
    "audio_log = 10.0 * np.log10(audio_filtered)\n",
    "print(\"\\t - Melakukan Filterisasi Sinyal...\\t\\t(done)\")\n",
    "            \n",
    "dct_filter_num = 40\n",
    "dct_filters = dct(dct_filter_num, mel_filter_num)\n",
    "cepstral_coefficents = np.dot(dct_filters, audio_log)\n",
    "print(\"\\t - Generate Nilai Cepstral Coefficient...\\t(done)\")"
   ]
  },
  {
   "cell_type": "code",
   "execution_count": null,
   "metadata": {},
   "outputs": [],
   "source": [
    "cepstral_coefficents = speechpy.processing.cmvn(cepstral_coefficents,True)\n",
    "\n",
    "for xpos in range(len(cepstral_coefficents)):\n",
    "    sigmax = 0\n",
    "    for xn in cepstral_coefficents[xpos,:]:\n",
    "        sigmax += xn\n",
    "    fiturmean[xpos,0] = sigmax/len(np.transpose(cepstral_coefficents))"
   ]
  },
  {
   "cell_type": "code",
   "execution_count": null,
   "metadata": {},
   "outputs": [],
   "source": [
    "indextable = []\n",
    "for a in range(40):\n",
    "    indextable.append(\"fitur\" + str(a+1))\n",
    "\n",
    "df = pd.DataFrame(np.transpose(fiturmean),columns=indextable)\n",
    "df.to_excel(\"WFCCTest.xlsx\", index=False)"
   ]
  },
  {
   "cell_type": "markdown",
   "metadata": {},
   "source": [
    "KNN"
   ]
  },
  {
   "cell_type": "code",
   "execution_count": null,
   "metadata": {},
   "outputs": [],
   "source": [
    "def klasifikasiKNN():\n",
    "    path1 = 'WFCCTrain.xlsx' #data training\n",
    "    path2 = 'WFCCTest.xlsx' #data test mentah\n",
    "\n",
    "    dataset1 = pd.read_excel(path1, header=None)\n",
    "    dataset2 = pd.read_excel(path2, header=None)\n",
    "\n",
    "    x_train = dataset1.iloc[1:, :40].values\n",
    "    y_train = dataset1.iloc[1:, 40].values\n",
    "\n",
    "    x_test = dataset2.iloc[1:, :40].values\n",
    "    knn = KNeighborsClassifier(n_neighbors=5, weights=\"distance\", metric=\"euclidean\")\n",
    "    knn.fit(x_train,y_train)\n",
    "    klasifikasiDataMentah = knn.predict(x_test)\n",
    "\n",
    "    # # Dummy Plan B\n",
    "    # if klasifikasiDataMentah == \"MIDDLE\":\n",
    "    #     print(\"Prediksi : LOW\")\n",
    "    # elif klasifikasiDataMentah == \"LOW\":\n",
    "    #     print(\"Prediksi : HIGH\")\n",
    "    # elif klasifikasiDataMentah == \"HIGH\":\n",
    "    #     print(\"Prediksi : MIDDLE\")\n",
    "    print(\"Prediksi :\", klasifikasiDataMentah)\n",
    "    return klasifikasiDataMentah\n",
    "\n",
    "time.sleep(0.1)\n",
    "klasifikasiKNN()"
   ]
  }
 ],
 "metadata": {
  "kernelspec": {
   "display_name": "Python 3.10.7 64-bit",
   "language": "python",
   "name": "python3"
  },
  "language_info": {
   "codemirror_mode": {
    "name": "ipython",
    "version": 3
   },
   "file_extension": ".py",
   "mimetype": "text/x-python",
   "name": "python",
   "nbconvert_exporter": "python",
   "pygments_lexer": "ipython3",
   "version": "3.10.7"
  },
  "orig_nbformat": 4,
  "vscode": {
   "interpreter": {
    "hash": "aee8b7b246df8f9039afb4144a1f6fd8d2ca17a180786b69acc140d282b71a49"
   }
  }
 },
 "nbformat": 4,
 "nbformat_minor": 2
}
